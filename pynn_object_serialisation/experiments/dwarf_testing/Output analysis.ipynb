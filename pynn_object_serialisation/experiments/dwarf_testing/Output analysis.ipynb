{
 "cells": [
  {
   "cell_type": "code",
   "execution_count": 4,
   "metadata": {},
   "outputs": [],
   "source": [
    "from pynn_object_serialisation.OutputDataProcessor import OutputDataProcessor\n",
    "import numpy as np\n",
    "import matplotlib.pyplot as plt"
   ]
  },
  {
   "cell_type": "code",
   "execution_count": 5,
   "metadata": {},
   "outputs": [
    {
     "name": "stdout",
     "output_type": "stream",
     "text": [
      "Final bin cut off.\n"
     ]
    }
   ],
   "source": [
    "#processor = OutputDataProcessor('/mnt/snntoolbox/pynn_object_serialisation/pynn_object_serialisation/experiments/dwarf_testing/results/output_t_stim_2000_testing_examples_1.npz')\n",
    "#big_processor = OutputDataProcessor('/mnt/snntoolbox/pynn_object_serialisation/pynn_object_serialisation/experiments/dwarf_testing/results/output_t_stim_1000_testing_examples_10_rate_scaling_100_subtractive_on.npz')\n",
    "#big_processor = OutputDataProcessor('/mnt/snntoolbox/pynn_object_serialisation/pynn_object_serialisation/experiments/dwarf_testing/results/output_t_stim_10000_testing_examples_2_rate_scaling_1000_subtractive_on.npz')\n",
    "#big_processor = OutputDataProcessor('/mnt/snntoolbox/pynn_object_serialisation/pynn_object_serialisation/experiments/dwarf_testing/results/output_t_stim_10000_testing_examples_4_rate_scaling_1000_subtractive_on.npz')\n",
    "big_processor = OutputDataProcessor('/mnt/snntoolbox/pynn_object_serialisation/pynn_object_serialisation/experiments/dwarf_testing/results/output_t_stim_1000_testing_examples_100_rate_scaling_1000_subtractive_on.npz')\n",
    "#big_processor = OutputDataProcessor('/mnt/snntoolbox/pynn_object_serialisation/pynn_object_serialisation/experiments/dwarf_testing/results/output_t_stim_10000_testing_examples_5_rate_scaling_100_subtractive_on_tsf_10.npz')\n",
    "#big_processor = OutputDataProcessor('/mnt/snntoolbox/pynn_object_serialisation/pynn_object_serialisation/experiments/dwarf_testing/results/output_t_stim_10000_testing_examples_5_rate_scaling_100_subtractive_on_tsf_10_bias_scaling_off.npz')\n",
    "#big_processor = OutputDataProcessor('/mnt/snntoolbox/pynn_object_serialisation/pynn_object_serialisation/experiments/dwarf_testing/results/output_t_stim_80_testing_examples_5_rate_scaling_1000_subtractive_on_tsf_100.npz')\n",
    "#big_processor = OutputDataProcessor('/mnt/snntoolbox/pynn_object_serialisation/pynn_object_serialisation/experiments/dwarf_testing/results/output_t_stim_10000_testing_examples_5_rate_scaling_100_subtractive_on_tsf_10_bias_scaling_off_different_test.npz')\n",
    "#big_processor = OutputDataProcessor('/mnt/snntoolbox/pynn_object_serialisation/pynn_object_serialisation/experiments/dwarf_testing/results/output_t_stim_10000_testing_examples_5_rate_scaling_100_subtractive_on_tsf_10_bias_scaling_actually_off_different_test.npz')"
   ]
  },
  {
   "cell_type": "code",
   "execution_count": 6,
   "metadata": {},
   "outputs": [
    {
     "data": {
      "text/plain": [
       "['InputLayer',\n",
       " '01DepthwiseConv2D_32x32x32',\n",
       " '02Conv2D_32x32x64',\n",
       " '03DepthwiseConv2D_16x16x64',\n",
       " '04Conv2D_16x16x128',\n",
       " '05DepthwiseConv2D_8x8x128',\n",
       " '06Conv2D_8x8x256',\n",
       " '07AveragePooling2D_256',\n",
       " '10Conv2D_1x1x10']"
      ]
     },
     "execution_count": 6,
     "metadata": {},
     "output_type": "execute_result"
    }
   ],
   "source": [
    "big_processor.layer_names"
   ]
  },
  {
   "cell_type": "code",
   "execution_count": 7,
   "metadata": {},
   "outputs": [
    {
     "data": {
      "text/plain": [
       "array([[    0,   120],\n",
       "       [    0,   121],\n",
       "       [    0,   122],\n",
       "       ...,\n",
       "       [31743,   191],\n",
       "       [31743,   194],\n",
       "       [31743,   196]])"
      ]
     },
     "execution_count": 7,
     "metadata": {},
     "output_type": "execute_result"
    }
   ],
   "source": [
    "big_processor.get_bin_spikes(0, '01DepthwiseConv2D_32x32x32')"
   ]
  },
  {
   "cell_type": "code",
   "execution_count": 8,
   "metadata": {},
   "outputs": [
    {
     "data": {
      "text/plain": [
       "8"
      ]
     },
     "execution_count": 8,
     "metadata": {},
     "output_type": "execute_result"
    }
   ],
   "source": [
    "big_processor.get_delay()"
   ]
  },
  {
   "cell_type": "code",
   "execution_count": 9,
   "metadata": {},
   "outputs": [
    {
     "data": {
      "text/plain": [
       "(8, 1008)"
      ]
     },
     "execution_count": 9,
     "metadata": {},
     "output_type": "execute_result"
    }
   ],
   "source": [
    "big_processor.get_bounds(0)"
   ]
  },
  {
   "cell_type": "code",
   "execution_count": 10,
   "metadata": {},
   "outputs": [],
   "source": [
    "import sys\n",
    "import numpy\n",
    "numpy.set_printoptions(threshold=sys.maxsize)"
   ]
  },
  {
   "cell_type": "code",
   "execution_count": 13,
   "metadata": {},
   "outputs": [
    {
     "data": {
      "text/plain": [
       "-1"
      ]
     },
     "execution_count": 13,
     "metadata": {},
     "output_type": "execute_result"
    }
   ],
   "source": [
    "big_processor.get_prediction(0, big_processor.output_layer_name)"
   ]
  },
  {
   "cell_type": "code",
   "execution_count": 14,
   "metadata": {},
   "outputs": [
    {
     "data": {
      "text/plain": [
       "array([], shape=(0, 2), dtype=int64)"
      ]
     },
     "execution_count": 14,
     "metadata": {},
     "output_type": "execute_result"
    }
   ],
   "source": [
    "big_processor.get_bin_spikes(5, big_processor.output_layer_name)"
   ]
  },
  {
   "cell_type": "code",
   "execution_count": 15,
   "metadata": {},
   "outputs": [
    {
     "data": {
      "text/plain": [
       "array([0, 0, 0, 0, 0, 0, 0, 0, 0, 0])"
      ]
     },
     "execution_count": 15,
     "metadata": {},
     "output_type": "execute_result"
    }
   ],
   "source": [
    "big_processor.get_counts(0, big_processor.layer_names[8], 10)"
   ]
  },
  {
   "cell_type": "code",
   "execution_count": 30,
   "metadata": {},
   "outputs": [
    {
     "data": {
      "image/png": "[encoded data removed]",
      "text/plain": [
       "<Figure size 432x288 with 2 Axes>"
      ]
     },
     "metadata": {
      "needs_background": "light"
     },
     "output_type": "display_data"
    },
    {
     "data": {
      "image/png": "[encoded data removed]",
      "text/plain": [
       "<Figure size 432x288 with 1 Axes>"
      ]
     },
     "metadata": {
      "needs_background": "light"
     },
     "output_type": "display_data"
    }
   ],
   "source": [
    "bin_number = 43\n",
    "#43 onwards there are problems\n",
    "big_processor.plot_bin(bin_number, big_processor.input_layer_name, (32, 32, 3))\n",
    "plt.show()\n",
    "#big_processor.plot_bin(bin_number, '01DepthwiseConv2D_32x32x32', (32, 32, 32))\n",
    "plt.show()\n",
    "big_processor.plot_output(bin_number)\n",
    "plt.show()"
   ]
  },
  {
   "cell_type": "code",
   "execution_count": null,
   "metadata": {},
   "outputs": [],
   "source": [
    "from snntoolbox.simulation.plotting import plot_layer_activity"
   ]
  },
  {
   "cell_type": "code",
   "execution_count": 2,
   "metadata": {},
   "outputs": [
    {
     "ename": "NameError",
     "evalue": "name 'big_output' is not defined",
     "output_type": "error",
     "traceback": [
      "\u001b[0;31m---------------------------------------------------------------------------\u001b[0m",
      "\u001b[0;31mNameError\u001b[0m                                 Traceback (most recent call last)",
      "\u001b[0;32m<ipython-input-2-851fc83807bf>\u001b[0m in \u001b[0;36m<module>\u001b[0;34m\u001b[0m\n\u001b[0;32m----> 1\u001b[0;31m \u001b[0mbig_output\u001b[0m\u001b[0;34m[\u001b[0m\u001b[0;36m0\u001b[0m\u001b[0;34m]\u001b[0m\u001b[0;34m[\u001b[0m\u001b[0;34m:\u001b[0m\u001b[0;34m,\u001b[0m\u001b[0;36m0\u001b[0m\u001b[0;34m]\u001b[0m\u001b[0;34m\u001b[0m\u001b[0m\n\u001b[0m",
      "\u001b[0;31mNameError\u001b[0m: name 'big_output' is not defined"
     ]
    }
   ],
   "source": [
    "big_output[0][:,0]"
   ]
  },
  {
   "cell_type": "code",
   "execution_count": null,
   "metadata": {},
   "outputs": [],
   "source": [
    "np.unique(big_output[:,0], axis=0 return_counts = True)"
   ]
  },
  {
   "cell_type": "code",
   "execution_count": null,
   "metadata": {
    "scrolled": true
   },
   "outputs": [],
   "source": [
    "np.unique(big_output[:,0], return_counts=True)"
   ]
  },
  {
   "cell_type": "code",
   "execution_count": null,
   "metadata": {},
   "outputs": [],
   "source": [
    "big_processor.get_bin_spikes(big_processor.spikes_dict[big_processor.output_layer_name], 1000)"
   ]
  },
  {
   "cell_type": "code",
   "execution_count": null,
   "metadata": {},
   "outputs": [],
   "source": [
    "big_processor.label_names"
   ]
  },
  {
   "cell_type": "code",
   "execution_count": null,
   "metadata": {},
   "outputs": [],
   "source": [
    "a = 64000\n",
    "big_output[(big_output[:,1]>a) & (big_output[:,1]<a+2000)]"
   ]
  },
  {
   "cell_type": "code",
   "execution_count": null,
   "metadata": {},
   "outputs": [],
   "source": [
    "big_output[:,1]"
   ]
  },
  {
   "cell_type": "code",
   "execution_count": null,
   "metadata": {},
   "outputs": [],
   "source": [
    "np.max(big_processor.get_rates(big_output, 30))"
   ]
  }
 ],
 "metadata": {
  "kernelspec": {
   "display_name": "Python 3",
   "language": "python",
   "name": "python3"
  },
  "language_info": {
   "codemirror_mode": {
    "name": "ipython",
    "version": 3
   },
   "file_extension": ".py",
   "mimetype": "text/x-python",
   "name": "python",
   "nbconvert_exporter": "python",
   "pygments_lexer": "ipython3",
   "version": "3.5.2"
  }
 },
 "nbformat": 4,
 "nbformat_minor": 2
}
