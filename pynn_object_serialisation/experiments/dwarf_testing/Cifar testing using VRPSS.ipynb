{
 "cells": [
  {
   "cell_type": "code",
   "execution_count": 54,
   "metadata": {},
   "outputs": [
    {
     "data": {
      "text/plain": [
       "<Figure size 432x288 with 0 Axes>"
      ]
     },
     "metadata": {},
     "output_type": "display_data"
    }
   ],
   "source": [
    "import string\n",
    "import numpy as np\n",
    "import matplotlib.pyplot as plt\n",
    "from mpl_toolkits.mplot3d import Axes3D\n",
    "from matplotlib import cm as cm_mlib\n",
    "from matplotlib.ticker import LinearLocator, FormatStrFormatter\n",
    "import scipy\n",
    "from matplotlib import animation, rc, colors\n",
    "import brian2.units as bunits\n",
    "import matplotlib as mlib\n",
    "from scipy import stats\n",
    "from pprint import pprint as pp\n",
    "from mpl_toolkits.axes_grid1 import make_axes_locatable, ImageGrid, AxesGrid\n",
    "import traceback\n",
    "import os\n",
    "import copy\n",
    "from datetime import datetime\n",
    "from brian2.units import *\n",
    "import warnings\n",
    "warnings.filterwarnings(\"ignore\", category=UserWarning)\n",
    "\n",
    "# ensure we use viridis as the default cmap\n",
    "plt.viridis()"
   ]
  },
  {
   "cell_type": "code",
   "execution_count": 84,
   "metadata": {},
   "outputs": [],
   "source": [
    "# ensure we use the same rc parameters for all matplotlib outputs\n",
    "mlib.rcParams.update({'font.size': 24})\n",
    "mlib.rcParams.update({'errorbar.capsize': 5})\n",
    "mlib.rcParams.update({'figure.autolayout': True})\n",
    "mlib.rcParams.update({'figure.figsize': (5,10)})"
   ]
  },
  {
   "cell_type": "code",
   "execution_count": 85,
   "metadata": {},
   "outputs": [],
   "source": [
    "def get_ordered_layer_names(dictionary):\n",
    "    layer_names = list(dictionary)\n",
    "    print(layer_names)\n",
    "    layer_names.sort()\n",
    "    layer_names[0] = layer_names.pop(-1)\n",
    "    return layer_names\n",
    "\n",
    "def get_ordered_layer_names_from_data(data, spikes_dict=None):\n",
    "    if spikes_dict is None:\n",
    "        spikes_dict = reconstruct_spikes_dict(data)\n",
    "    dictionary = spikes_dict.keys()\n",
    "    return get_ordered_layer_names(dictionary)\n",
    "    \n",
    "def get_shape_from_name(name):\n",
    "    shape_string = name.split('_')\n",
    "    if len(shape_string) <2:\n",
    "        return\n",
    "    else:\n",
    "        shape_string = shape_string[1]\n",
    "    shape_list = shape_string.split('x')\n",
    "    return tuple([int(item) for item in shape_list])\n",
    "\n",
    "def reconstruct_spikes_dict(data):\n",
    "    '''This is necessary due to serialisation problems is spikes_dict is packaged into an array.'''\n",
    "    expected_files = ['N_layer', 'y_test', 'output_v', 'runtime', 't_stim', 'neo_spikes_dict', 'sim_time']\n",
    "    unexpected_files = [file for file in data.files if file not in expected_files]\n",
    "    spike_dict = {file_name:data[file_name] for file_name in unexpected_files}\n",
    "    return spike_dict"
   ]
  },
  {
   "cell_type": "code",
   "execution_count": 86,
   "metadata": {},
   "outputs": [],
   "source": [
    "# data = np.load(\"mnist_results__235237_08072019.npz\")\n",
    "\n",
    "# data = np.load(\"mnist_results_ed_mnist_network_test_100_full_recordings.npz\")\n",
    "#data = np.load('results/output_t_stim_1000_testing_examples_10_tsf_100.npz')\n",
    "#data = np.load('results/output_t_stim_300_testing_examples_10_tsf_100_reset_by_subtraction.npz')#\n",
    "data = np.load('results/output_t_stim_2000_testing_examples_1.npz')\n",
    "#data = np.load(\"results/output_t_stim_80_testing_examples_50.npz\")\n",
    "#data= np.load(\"results/output2.npz\")\n",
    "#data= np.load(\"results/output_t_stim_800_testing_examples_20.npz\")\n",
    "#\"..//pynn_object_serialisation/pynn_object_serialisation/\"\n",
    "#\"experiments/mnist_testing/results/mnist_results_ed_mnist_network_test_1.npz\")\n",
    "# data = np.load(\"mnist_results_ed_mnist_network_test.npz\")"
   ]
  },
  {
   "cell_type": "code",
   "execution_count": 87,
   "metadata": {
    "scrolled": true
   },
   "outputs": [
    {
     "data": {
      "text/plain": [
       "['04Conv2D_16x16x128',\n",
       " '06Conv2D_8x8x256',\n",
       " '10Conv2D_1x1x10',\n",
       " 'neo_spikes_dict',\n",
       " '01DepthwiseConv2D_32x32x32',\n",
       " '05DepthwiseConv2D_8x8x128',\n",
       " '07AveragePooling2D_256',\n",
       " '03DepthwiseConv2D_16x16x64',\n",
       " 'InputLayer',\n",
       " 'output_v',\n",
       " 'N_layer',\n",
       " '00Conv2D_32x32x32',\n",
       " 't_stim',\n",
       " 'y_test',\n",
       " '02Conv2D_32x32x64',\n",
       " 'sim_time',\n",
       " 'runtime']"
      ]
     },
     "execution_count": 87,
     "metadata": {},
     "output_type": "execute_result"
    }
   ],
   "source": [
    "data.files"
   ]
  },
  {
   "cell_type": "code",
   "execution_count": 88,
   "metadata": {},
   "outputs": [
    {
     "data": {
      "text/plain": [
       "{'00Conv2D_32x32x32': array([[    0.,    92.],\n",
       "        [    0.,    93.],\n",
       "        [    0.,    94.],\n",
       "        ...,\n",
       "        [32734.,  1997.],\n",
       "        [32734.,  1998.],\n",
       "        [32734.,  1999.]]),\n",
       " '01DepthwiseConv2D_32x32x32': array([[    0.,   111.],\n",
       "        [    0.,   112.],\n",
       "        [    0.,   113.],\n",
       "        ...,\n",
       "        [31742.,  1997.],\n",
       "        [31742.,  1998.],\n",
       "        [31742.,  1999.]]),\n",
       " '02Conv2D_32x32x64': array([[1.0000e+00, 4.3700e+02],\n",
       "        [1.0000e+00, 4.3800e+02],\n",
       "        [1.0000e+00, 4.3900e+02],\n",
       "        ...,\n",
       "        [6.5535e+04, 1.9970e+03],\n",
       "        [6.5535e+04, 1.9980e+03],\n",
       "        [6.5535e+04, 1.9990e+03]]),\n",
       " '03DepthwiseConv2D_16x16x64': array([[   31.,   253.],\n",
       "        [   31.,   254.],\n",
       "        [   31.,   255.],\n",
       "        ...,\n",
       "        [16369.,  1979.],\n",
       "        [16369.,  1980.],\n",
       "        [16369.,  1981.]]),\n",
       " '04Conv2D_16x16x128': array([[    0.,   557.],\n",
       "        [    0.,   558.],\n",
       "        [    0.,   559.],\n",
       "        ...,\n",
       "        [32758.,  1997.],\n",
       "        [32758.,  1998.],\n",
       "        [32758.,  1999.]]),\n",
       " '05DepthwiseConv2D_8x8x128': array([[   0.,  528.],\n",
       "        [   0.,  529.],\n",
       "        [   0.,  530.],\n",
       "        ...,\n",
       "        [8176., 1997.],\n",
       "        [8176., 1998.],\n",
       "        [8176., 1999.]]),\n",
       " '06Conv2D_8x8x256': array([[   24.,   969.],\n",
       "        [   24.,   970.],\n",
       "        [   24.,   971.],\n",
       "        ...,\n",
       "        [16383.,  1997.],\n",
       "        [16383.,  1998.],\n",
       "        [16383.,  1999.]]),\n",
       " '07AveragePooling2D_256': array([[   0.,  626.],\n",
       "        [   0.,  627.],\n",
       "        [   0.,  628.],\n",
       "        ...,\n",
       "        [ 255., 1997.],\n",
       "        [ 255., 1998.],\n",
       "        [ 255., 1999.]]),\n",
       " '10Conv2D_1x1x10': array([[  3., 484.],\n",
       "        [  3., 485.],\n",
       "        [  3., 486.],\n",
       "        [  3., 487.],\n",
       "        [  3., 488.],\n",
       "        [  3., 489.],\n",
       "        [  3., 490.],\n",
       "        [  3., 491.],\n",
       "        [  3., 492.],\n",
       "        [  3., 493.],\n",
       "        [  3., 494.],\n",
       "        [  3., 495.],\n",
       "        [  3., 496.],\n",
       "        [  3., 497.],\n",
       "        [  3., 498.],\n",
       "        [  3., 499.],\n",
       "        [  3., 500.],\n",
       "        [  3., 501.],\n",
       "        [  3., 502.],\n",
       "        [  3., 503.],\n",
       "        [  3., 504.],\n",
       "        [  3., 505.],\n",
       "        [  3., 506.],\n",
       "        [  3., 507.],\n",
       "        [  3., 508.],\n",
       "        [  3., 509.],\n",
       "        [  3., 510.],\n",
       "        [  3., 511.],\n",
       "        [  3., 512.],\n",
       "        [  3., 513.],\n",
       "        [  3., 514.],\n",
       "        [  3., 515.],\n",
       "        [  3., 516.],\n",
       "        [  3., 517.],\n",
       "        [  3., 518.],\n",
       "        [  3., 519.],\n",
       "        [  3., 520.],\n",
       "        [  3., 521.],\n",
       "        [  3., 522.],\n",
       "        [  3., 523.],\n",
       "        [  3., 524.],\n",
       "        [  3., 525.],\n",
       "        [  3., 526.],\n",
       "        [  3., 527.],\n",
       "        [  3., 528.],\n",
       "        [  3., 529.],\n",
       "        [  3., 530.],\n",
       "        [  3., 531.],\n",
       "        [  3., 532.],\n",
       "        [  3., 533.],\n",
       "        [  3., 534.],\n",
       "        [  3., 535.],\n",
       "        [  3., 536.],\n",
       "        [  3., 537.],\n",
       "        [  3., 538.],\n",
       "        [  3., 539.],\n",
       "        [  3., 540.],\n",
       "        [  3., 541.],\n",
       "        [  3., 542.],\n",
       "        [  3., 543.],\n",
       "        [  3., 544.],\n",
       "        [  3., 545.],\n",
       "        [  3., 546.],\n",
       "        [  3., 547.],\n",
       "        [  3., 548.],\n",
       "        [  3., 549.],\n",
       "        [  3., 550.],\n",
       "        [  3., 551.],\n",
       "        [  3., 552.],\n",
       "        [  3., 553.],\n",
       "        [  3., 554.],\n",
       "        [  3., 555.],\n",
       "        [  3., 556.],\n",
       "        [  3., 557.],\n",
       "        [  4., 478.],\n",
       "        [  4., 479.],\n",
       "        [  4., 480.],\n",
       "        [  4., 481.],\n",
       "        [  4., 482.],\n",
       "        [  9., 491.],\n",
       "        [  9., 492.],\n",
       "        [  9., 493.],\n",
       "        [  9., 494.],\n",
       "        [  9., 495.],\n",
       "        [  9., 496.],\n",
       "        [  9., 497.],\n",
       "        [  9., 498.],\n",
       "        [  9., 499.],\n",
       "        [  9., 500.],\n",
       "        [  9., 501.],\n",
       "        [  9., 502.],\n",
       "        [  9., 503.],\n",
       "        [  9., 504.],\n",
       "        [  9., 505.]]),\n",
       " 'InputLayer': array([[0.000e+00, 0.000e+00],\n",
       "        [0.000e+00, 0.000e+00],\n",
       "        [0.000e+00, 1.000e+00],\n",
       "        ...,\n",
       "        [3.071e+03, 1.993e+03],\n",
       "        [3.071e+03, 1.994e+03],\n",
       "        [3.071e+03, 1.997e+03]])}"
      ]
     },
     "execution_count": 88,
     "metadata": {},
     "output_type": "execute_result"
    }
   ],
   "source": [
    "reconstruct_spikes_dict(data)"
   ]
  },
  {
   "cell_type": "code",
   "execution_count": 89,
   "metadata": {},
   "outputs": [
    {
     "name": "stdout",
     "output_type": "stream",
     "text": [
      "['03DepthwiseConv2D_16x16x64', '06Conv2D_8x8x256', '10Conv2D_1x1x10', '00Conv2D_32x32x32', '04Conv2D_16x16x128', '02Conv2D_32x32x64', '01DepthwiseConv2D_32x32x32', '07AveragePooling2D_256', 'InputLayer', '05DepthwiseConv2D_8x8x128']\n"
     ]
    }
   ],
   "source": [
    "input_layer_name = 'InputLayer'\n",
    "spikes_dict = reconstruct_spikes_dict(data)\n",
    "output_layer_name = get_ordered_layer_names_from_data(data, spikes_dict)[-1]\n",
    "y_test = data['y_test']\n",
    "\n",
    "t_stim=data['t_stim']\n",
    "runtime=int(data['runtime'])\n",
    "N_layer=int(data['N_layer'])\n",
    "neo_object = data['neo_spikes_dict']\n",
    "\n",
    "data.close()\n",
    "\n",
    "labels = np.load('/mnt/snntoolbox/snn_toolbox_private/examples/models/05-mobilenet_dwarf_v1/label_names.npz')\n",
    "label_names = labels['arr_0']\n",
    "labels.close()\n",
    "\n",
    "x_test_file = np.load('/mnt/snntoolbox/snn_toolbox_private/examples/models/05-mobilenet_dwarf_v1/x_test.npz')\n",
    "x_test = x_test_file['arr_0']\n",
    "x_test_file.close()\n"
   ]
  },
  {
   "cell_type": "code",
   "execution_count": 90,
   "metadata": {},
   "outputs": [
    {
     "data": {
      "text/plain": [
       "{'00Conv2D_32x32x32': array([[    0.,    92.],\n",
       "        [    0.,    93.],\n",
       "        [    0.,    94.],\n",
       "        ...,\n",
       "        [32734.,  1997.],\n",
       "        [32734.,  1998.],\n",
       "        [32734.,  1999.]]),\n",
       " '01DepthwiseConv2D_32x32x32': array([[    0.,   111.],\n",
       "        [    0.,   112.],\n",
       "        [    0.,   113.],\n",
       "        ...,\n",
       "        [31742.,  1997.],\n",
       "        [31742.,  1998.],\n",
       "        [31742.,  1999.]]),\n",
       " '02Conv2D_32x32x64': array([[1.0000e+00, 4.3700e+02],\n",
       "        [1.0000e+00, 4.3800e+02],\n",
       "        [1.0000e+00, 4.3900e+02],\n",
       "        ...,\n",
       "        [6.5535e+04, 1.9970e+03],\n",
       "        [6.5535e+04, 1.9980e+03],\n",
       "        [6.5535e+04, 1.9990e+03]]),\n",
       " '03DepthwiseConv2D_16x16x64': array([[   31.,   253.],\n",
       "        [   31.,   254.],\n",
       "        [   31.,   255.],\n",
       "        ...,\n",
       "        [16369.,  1979.],\n",
       "        [16369.,  1980.],\n",
       "        [16369.,  1981.]]),\n",
       " '04Conv2D_16x16x128': array([[    0.,   557.],\n",
       "        [    0.,   558.],\n",
       "        [    0.,   559.],\n",
       "        ...,\n",
       "        [32758.,  1997.],\n",
       "        [32758.,  1998.],\n",
       "        [32758.,  1999.]]),\n",
       " '05DepthwiseConv2D_8x8x128': array([[   0.,  528.],\n",
       "        [   0.,  529.],\n",
       "        [   0.,  530.],\n",
       "        ...,\n",
       "        [8176., 1997.],\n",
       "        [8176., 1998.],\n",
       "        [8176., 1999.]]),\n",
       " '06Conv2D_8x8x256': array([[   24.,   969.],\n",
       "        [   24.,   970.],\n",
       "        [   24.,   971.],\n",
       "        ...,\n",
       "        [16383.,  1997.],\n",
       "        [16383.,  1998.],\n",
       "        [16383.,  1999.]]),\n",
       " '07AveragePooling2D_256': array([[   0.,  626.],\n",
       "        [   0.,  627.],\n",
       "        [   0.,  628.],\n",
       "        ...,\n",
       "        [ 255., 1997.],\n",
       "        [ 255., 1998.],\n",
       "        [ 255., 1999.]]),\n",
       " '10Conv2D_1x1x10': array([[  3., 484.],\n",
       "        [  3., 485.],\n",
       "        [  3., 486.],\n",
       "        [  3., 487.],\n",
       "        [  3., 488.],\n",
       "        [  3., 489.],\n",
       "        [  3., 490.],\n",
       "        [  3., 491.],\n",
       "        [  3., 492.],\n",
       "        [  3., 493.],\n",
       "        [  3., 494.],\n",
       "        [  3., 495.],\n",
       "        [  3., 496.],\n",
       "        [  3., 497.],\n",
       "        [  3., 498.],\n",
       "        [  3., 499.],\n",
       "        [  3., 500.],\n",
       "        [  3., 501.],\n",
       "        [  3., 502.],\n",
       "        [  3., 503.],\n",
       "        [  3., 504.],\n",
       "        [  3., 505.],\n",
       "        [  3., 506.],\n",
       "        [  3., 507.],\n",
       "        [  3., 508.],\n",
       "        [  3., 509.],\n",
       "        [  3., 510.],\n",
       "        [  3., 511.],\n",
       "        [  3., 512.],\n",
       "        [  3., 513.],\n",
       "        [  3., 514.],\n",
       "        [  3., 515.],\n",
       "        [  3., 516.],\n",
       "        [  3., 517.],\n",
       "        [  3., 518.],\n",
       "        [  3., 519.],\n",
       "        [  3., 520.],\n",
       "        [  3., 521.],\n",
       "        [  3., 522.],\n",
       "        [  3., 523.],\n",
       "        [  3., 524.],\n",
       "        [  3., 525.],\n",
       "        [  3., 526.],\n",
       "        [  3., 527.],\n",
       "        [  3., 528.],\n",
       "        [  3., 529.],\n",
       "        [  3., 530.],\n",
       "        [  3., 531.],\n",
       "        [  3., 532.],\n",
       "        [  3., 533.],\n",
       "        [  3., 534.],\n",
       "        [  3., 535.],\n",
       "        [  3., 536.],\n",
       "        [  3., 537.],\n",
       "        [  3., 538.],\n",
       "        [  3., 539.],\n",
       "        [  3., 540.],\n",
       "        [  3., 541.],\n",
       "        [  3., 542.],\n",
       "        [  3., 543.],\n",
       "        [  3., 544.],\n",
       "        [  3., 545.],\n",
       "        [  3., 546.],\n",
       "        [  3., 547.],\n",
       "        [  3., 548.],\n",
       "        [  3., 549.],\n",
       "        [  3., 550.],\n",
       "        [  3., 551.],\n",
       "        [  3., 552.],\n",
       "        [  3., 553.],\n",
       "        [  3., 554.],\n",
       "        [  3., 555.],\n",
       "        [  3., 556.],\n",
       "        [  3., 557.],\n",
       "        [  4., 478.],\n",
       "        [  4., 479.],\n",
       "        [  4., 480.],\n",
       "        [  4., 481.],\n",
       "        [  4., 482.],\n",
       "        [  9., 491.],\n",
       "        [  9., 492.],\n",
       "        [  9., 493.],\n",
       "        [  9., 494.],\n",
       "        [  9., 495.],\n",
       "        [  9., 496.],\n",
       "        [  9., 497.],\n",
       "        [  9., 498.],\n",
       "        [  9., 499.],\n",
       "        [  9., 500.],\n",
       "        [  9., 501.],\n",
       "        [  9., 502.],\n",
       "        [  9., 503.],\n",
       "        [  9., 504.],\n",
       "        [  9., 505.]]),\n",
       " 'InputLayer': array([[0.000e+00, 0.000e+00],\n",
       "        [0.000e+00, 0.000e+00],\n",
       "        [0.000e+00, 1.000e+00],\n",
       "        ...,\n",
       "        [3.071e+03, 1.993e+03],\n",
       "        [3.071e+03, 1.994e+03],\n",
       "        [3.071e+03, 1.997e+03]])}"
      ]
     },
     "execution_count": 90,
     "metadata": {},
     "output_type": "execute_result"
    }
   ],
   "source": [
    "spikes_dict"
   ]
  },
  {
   "cell_type": "code",
   "execution_count": 91,
   "metadata": {},
   "outputs": [
    {
     "data": {
      "text/plain": [
       "array(2000)"
      ]
     },
     "execution_count": 91,
     "metadata": {},
     "output_type": "execute_result"
    }
   ],
   "source": [
    "t_stim"
   ]
  },
  {
   "cell_type": "code",
   "execution_count": 92,
   "metadata": {},
   "outputs": [],
   "source": [
    "def get_bounds(bin_number, t_stim =t_stim):\n",
    "    #delay = get_propagation_delay(t_stim, N_layers)\n",
    "    delay =0\n",
    "    lower_end_bin_time = bin_number * t_stim + delay \n",
    "    higher_end_bin_time = (bin_number+1) * t_stim + delay\n",
    "    '''maximum_time = t_stim * maximum_bins\n",
    "    if higher_end_bin_time > maximum_time:\n",
    "        higher_end_bin_time = maximum_time\n",
    "        print('Final bin cutoff.')'''\n",
    "    return lower_end_bin_time, higher_end_bin_time\n",
    "\n",
    "def get_bin_spikes(spikes, bin_number):\n",
    "    lower_end_bin_time, higher_end_bin_time = get_bounds(bin_number)\n",
    "    output = spikes[np.where((spikes[:,1] >= lower_end_bin_time) & (spikes[:,1] < higher_end_bin_time)),:]\n",
    "    output = np.asarray(output).astype(int)\n",
    "    return output\n",
    "\n",
    "def get_counts(spikes, bin_number, t_stim=t_stim, minlength = 3*32**2):\n",
    "    spikes = get_bin_spikes(spikes, bin_number)\n",
    "    just_spikes = spikes.reshape((-1,2))[:,0]\n",
    "    counts = np.bincount(just_spikes, minlength=minlength)\n",
    "    return counts\n",
    "\n",
    "def get_rates(spikes, bin_number, t_stim=t_stim):\n",
    "    return get_counts(spikes, bin_number)/t_stim\n",
    "\n",
    "def plot_rates(rates, shape=(32,32,3)):\n",
    "    rates /= rates.max()\n",
    "    plt.imshow(rates.reshape(shape))\n",
    "    \n",
    "def plot_bin(spikes, bin_number):\n",
    "    plot_rates(get_rates(spikes, bin_number))\n",
    "    \n",
    "def get_propagation_delay(tim_stim, N_layers, dt=1, delays=False):\n",
    "    if delays:\n",
    "        raise Exception('Cannnot currently calculate model with delays')\n",
    "    else:\n",
    "        return (N_layers-1)*dt\n",
    "    \n",
    "def get_prediction(spikes, bin_number, t_stim=t_stim, output_size=10):\n",
    "    counts = get_counts(spikes, bin_number, t_stim, 10)\n",
    "    if counts.max() > 0:\n",
    "        return np.argmax(counts)\n",
    "    else:\n",
    "        return -1"
   ]
  },
  {
   "cell_type": "code",
   "execution_count": 93,
   "metadata": {},
   "outputs": [
    {
     "name": "stdout",
     "output_type": "stream",
     "text": [
      "['03DepthwiseConv2D_16x16x64', '06Conv2D_8x8x256', '10Conv2D_1x1x10', '00Conv2D_32x32x32', '04Conv2D_16x16x128', '02Conv2D_32x32x64', '01DepthwiseConv2D_32x32x32', '07AveragePooling2D_256', 'InputLayer', '05DepthwiseConv2D_8x8x128']\n",
      "['03DepthwiseConv2D_16x16x64', '06Conv2D_8x8x256', '10Conv2D_1x1x10', '00Conv2D_32x32x32', '04Conv2D_16x16x128', '02Conv2D_32x32x64', '01DepthwiseConv2D_32x32x32', '07AveragePooling2D_256', 'InputLayer', '05DepthwiseConv2D_8x8x128']\n",
      "['03DepthwiseConv2D_16x16x64', '06Conv2D_8x8x256', '10Conv2D_1x1x10', '00Conv2D_32x32x32', '04Conv2D_16x16x128', '02Conv2D_32x32x64', '01DepthwiseConv2D_32x32x32', '07AveragePooling2D_256', 'InputLayer', '05DepthwiseConv2D_8x8x128']\n"
     ]
    }
   ],
   "source": [
    "input_layer_name = get_ordered_layer_names(spikes_dict)[0]\n",
    "output_layer_name = get_ordered_layer_names(spikes_dict)[-1]\n",
    "input_layer_shape = (32, 32, 3)\n",
    "input_spikes = spikes_dict[input_layer_name]\n",
    "output_spikes = spikes_dict[output_layer_name]\n",
    "last_but_one = spikes_dict[get_ordered_layer_names(spikes_dict)[-2]]"
   ]
  },
  {
   "cell_type": "code",
   "execution_count": 94,
   "metadata": {},
   "outputs": [],
   "source": [
    "output_labels, output_counts = np.unique(output_spikes[:,0], return_counts=True)"
   ]
  },
  {
   "cell_type": "code",
   "execution_count": 95,
   "metadata": {},
   "outputs": [],
   "source": [
    "label_names = [name.decode('utf-8') for name in label_names]"
   ]
  },
  {
   "cell_type": "code",
   "execution_count": 96,
   "metadata": {},
   "outputs": [
    {
     "data": {
      "text/plain": [
       "([<matplotlib.axis.XTick at 0x7f16ca4f09b0>,\n",
       "  <matplotlib.axis.XTick at 0x7f16ca4f0c18>,\n",
       "  <matplotlib.axis.XTick at 0x7f16ca552cf8>],\n",
       " <a list of 3 Text xticklabel objects>)"
      ]
     },
     "execution_count": 96,
     "metadata": {},
     "output_type": "execute_result"
    },
    {
     "data": {
      "image/png": "[encoded data removed]",
      "text/plain": [
       "<Figure size 360x720 with 1 Axes>"
      ]
     },
     "metadata": {
      "needs_background": "light"
     },
     "output_type": "display_data"
    }
   ],
   "source": [
    "plt.bar(output_labels, output_counts)\n",
    "plt.xticks(output_labels, label_names, rotation=90)"
   ]
  },
  {
   "cell_type": "code",
   "execution_count": 97,
   "metadata": {},
   "outputs": [
    {
     "ename": "SyntaxError",
     "evalue": "invalid syntax (<ipython-input-97-326852e4dbc3>, line 3)",
     "output_type": "error",
     "traceback": [
      "\u001b[0;36m  File \u001b[0;32m\"<ipython-input-97-326852e4dbc3>\"\u001b[0;36m, line \u001b[0;32m3\u001b[0m\n\u001b[0;31m    label_names[int(output_labels[np.argmax(output_counts)])]\u001b[0m\n\u001b[0m              ^\u001b[0m\n\u001b[0;31mSyntaxError\u001b[0m\u001b[0;31m:\u001b[0m invalid syntax\n"
     ]
    }
   ],
   "source": [
    "plt.bar(np.arange(len(output_label), np.unique(output_spikes[:,0])\n",
    "\n",
    "label_names[int(output_labels[np.argmax(output_counts)])]"
   ]
  },
  {
   "cell_type": "code",
   "execution_count": 26,
   "metadata": {},
   "outputs": [],
   "source": [
    "number_of_examples = runtime // t_stim\n",
    "actual_test_labels = y_test[:number_of_examples].ravel()\n",
    "y_pred = np.ones(number_of_examples) * (-1)\n",
    "output_spikes = spikes_dict[output_layer_name]\n",
    "for bin_number in range(number_of_examples):\n",
    "    y_pred[bin_number]=get_prediction(output_spikes, bin_number)"
   ]
  },
  {
   "cell_type": "code",
   "execution_count": 27,
   "metadata": {},
   "outputs": [
    {
     "name": "stdout",
     "output_type": "stream",
     "text": [
      "Accuracy 1.0\n"
     ]
    }
   ],
   "source": [
    "print(\"Accuracy\", np.count_nonzero(y_pred==actual_test_labels)/float(number_of_examples))"
   ]
  },
  {
   "cell_type": "code",
   "execution_count": 28,
   "metadata": {},
   "outputs": [
    {
     "name": "stdout",
     "output_type": "stream",
     "text": [
      "Predicted: cat, Actual: cat\n"
     ]
    }
   ],
   "source": [
    "for i in range(number_of_examples):\n",
    "    prediction = get_prediction(output_spikes, i)\n",
    "    predicted_label = label_names[prediction].decode('UTF-8')\n",
    "    actual_label = label_names[actual_test_labels[i]].decode('UTF-8')\n",
    "    print(\"Predicted: {}, Actual: {}\".format(predicted_label, actual_label))\n",
    "    #plot_bin(input_spikes, i)\n",
    "    #plt.show()"
   ]
  },
  {
   "cell_type": "code",
   "execution_count": 29,
   "metadata": {},
   "outputs": [
    {
     "data": {
      "image/png": "[encoded data removed]",
      "text/plain": [
       "<Figure size 432x288 with 1 Axes>"
      ]
     },
     "metadata": {
      "needs_background": "light"
     },
     "output_type": "display_data"
    }
   ],
   "source": [
    "bin_number = 0\n",
    "\n",
    "prediction = get_prediction(output_spikes, bin_number)\n",
    "label_names[prediction]\n",
    "plot_bin(input_spikes, bin_number)\n",
    "plt.show()"
   ]
  },
  {
   "cell_type": "code",
   "execution_count": 30,
   "metadata": {},
   "outputs": [
    {
     "data": {
      "text/plain": [
       "<matplotlib.image.AxesImage at 0x7f178a44b5c0>"
      ]
     },
     "execution_count": 30,
     "metadata": {},
     "output_type": "execute_result"
    },
    {
     "data": {
      "image/png": "[encoded data removed]",
      "text/plain": [
       "<Figure size 432x288 with 1 Axes>"
      ]
     },
     "metadata": {
      "needs_background": "light"
     },
     "output_type": "display_data"
    }
   ],
   "source": [
    "plt.imshow(x_test[bin_number])"
   ]
  },
  {
   "cell_type": "code",
   "execution_count": 31,
   "metadata": {},
   "outputs": [],
   "source": [
    "rates = get_rates(input_spikes, bin_number).reshape((32,32,3))\n",
    "rates /= rates.max()"
   ]
  },
  {
   "cell_type": "code",
   "execution_count": 32,
   "metadata": {},
   "outputs": [
    {
     "data": {
      "text/plain": [
       "1.0"
      ]
     },
     "execution_count": 32,
     "metadata": {},
     "output_type": "execute_result"
    }
   ],
   "source": [
    "real = x_test[bin_number]\n",
    "\n",
    "real.max()"
   ]
  },
  {
   "cell_type": "code",
   "execution_count": 33,
   "metadata": {},
   "outputs": [
    {
     "data": {
      "image/png": "[encoded data removed]",
      "text/plain": [
       "<Figure size 432x288 with 1 Axes>"
      ]
     },
     "metadata": {
      "needs_background": "light"
     },
     "output_type": "display_data"
    }
   ],
   "source": [
    "real_int8 = real / 255.\n",
    "real_emp = real / real.max()\n",
    "\n",
    "difference = rates-real_emp\n",
    "difference_emp = rates - real_emp\n",
    "plt.hist(difference.ravel(), alpha=1)\n",
    "plt.hist(difference_emp.ravel(), alpha=0.5)\n",
    "plt.savefig(\"difference_histogram_ten_seconds.png\")"
   ]
  },
  {
   "cell_type": "code",
   "execution_count": 34,
   "metadata": {},
   "outputs": [
    {
     "name": "stderr",
     "output_type": "stream",
     "text": [
      "Clipping input data to the valid range for imshow with RGB data ([0..1] for floats or [0..255] for integers).\n"
     ]
    },
    {
     "data": {
      "text/plain": [
       "<matplotlib.image.AxesImage at 0x7f178a42ae80>"
      ]
     },
     "execution_count": 34,
     "metadata": {},
     "output_type": "execute_result"
    },
    {
     "data": {
      "image/png": "[encoded data removed]",
      "text/plain": [
       "<Figure size 432x288 with 1 Axes>"
      ]
     },
     "metadata": {
      "needs_background": "light"
     },
     "output_type": "display_data"
    }
   ],
   "source": [
    "difference /= difference.max()\n",
    "plt.imshow(difference)"
   ]
  },
  {
   "cell_type": "code",
   "execution_count": 35,
   "metadata": {},
   "outputs": [
    {
     "data": {
      "text/plain": [
       "array(2000)"
      ]
     },
     "execution_count": 35,
     "metadata": {},
     "output_type": "execute_result"
    }
   ],
   "source": [
    "t_stim"
   ]
  },
  {
   "cell_type": "code",
   "execution_count": 36,
   "metadata": {},
   "outputs": [
    {
     "name": "stdout",
     "output_type": "stream",
     "text": [
      "[ 0  0  0 74  5  0  0  0  0 15]\n",
      "Count: Min 0 Max 74 Mean 9.4\n",
      "Hz   : Min 0. Hz Max 37. Hz Mean 4.7 Hz\n"
     ]
    }
   ],
   "source": [
    "nid_bincount = get_counts(output_spikes, 0, t_stim, 10)\n",
    "print(nid_bincount)\n",
    "print(\"Count: Min\", np.min(nid_bincount), \"Max\", np.max(nid_bincount), \"Mean\", np.mean(nid_bincount))\n",
    "nid_bincount = nid_bincount/(t_stim * ms)\n",
    "print(\"Hz   : Min\", np.min(nid_bincount), \"Max\", np.max(nid_bincount), \"Mean\", np.mean(nid_bincount))"
   ]
  },
  {
   "cell_type": "code",
   "execution_count": 37,
   "metadata": {},
   "outputs": [
    {
     "name": "stdout",
     "output_type": "stream",
     "text": [
      "74\n"
     ]
    }
   ],
   "source": [
    "for i in range(number_of_examples):\n",
    "    print (np.max(get_counts(output_spikes, i)))"
   ]
  },
  {
   "cell_type": "code",
   "execution_count": null,
   "metadata": {},
   "outputs": [],
   "source": []
  }
 ],
 "metadata": {
  "kernelspec": {
   "display_name": "Python 3",
   "language": "python",
   "name": "python3"
  },
  "language_info": {
   "codemirror_mode": {
    "name": "ipython",
    "version": 3
   },
   "file_extension": ".py",
   "mimetype": "text/x-python",
   "name": "python",
   "nbconvert_exporter": "python",
   "pygments_lexer": "ipython3",
   "version": "3.5.2"
  }
 },
 "nbformat": 4,
 "nbformat_minor": 4
}
