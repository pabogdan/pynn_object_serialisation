{
 "cells": [
  {
   "cell_type": "code",
   "execution_count": 2,
   "metadata": {},
   "outputs": [],
   "source": [
    "import string\n",
    "\n",
    "import numpy as np\n",
    "import matplotlib.pyplot as plt\n",
    "from mpl_toolkits.mplot3d import Axes3D\n",
    "from matplotlib import cm as cm_mlib\n",
    "from matplotlib.ticker import LinearLocator, FormatStrFormatter\n",
    "import scipy\n",
    "from matplotlib import animation, rc, colors\n",
    "import brian2.units as bunits\n",
    "import matplotlib as mlib\n",
    "from scipy import stats\n",
    "from pprint import pprint as pp\n",
    "from mpl_toolkits.axes_grid1 import make_axes_locatable, ImageGrid, AxesGrid\n",
    "import traceback\n",
    "import os\n",
    "import copy\n",
    "from datetime import datetime\n",
    "from brian2.units import *\n",
    "import warnings\n",
    "warnings.filterwarnings(\"ignore\", category=UserWarning)\n",
    "\n",
    "# ensure we use viridis as the default cmap\n",
    "plt.viridis()"
   ]
  },
  {
   "cell_type": "code",
   "execution_count": 3,
   "metadata": {},
   "outputs": [],
   "source": [
    "# ensure we use the same rc parameters for all matplotlib outputs\n",
    "mlib.rcParams.update({'font.size': 24})\n",
    "mlib.rcParams.update({'errorbar.capsize': 5})\n",
    "mlib.rcParams.update({'figure.autolayout': True})"
   ]
  },
  {
   "cell_type": "code",
   "execution_count": 4,
   "metadata": {},
   "outputs": [],
   "source": [
    "def get_ordered_layer_names(dictionary):\n",
    "    layer_names = list(dictionary)\n",
    "    layer_names.sort()\n",
    "    layer_names[0] = layer_names.pop(-1)\n",
    "    return layer_names\n",
    "\n",
    "def get_ordered_layer_names_from_data(data):\n",
    "    dictionary = data['spikes_dict'][()].keys()\n",
    "    return get_ordered_layer_names(dictionary)\n",
    "    \n",
    "def get_shape_from_name(name):\n",
    "    shape_string = name.split('_')\n",
    "    if len(shape_string) <2:\n",
    "        return\n",
    "    else:\n",
    "        shape_string = shape_string[1]\n",
    "    shape_list = shape_string.split('x')\n",
    "    return tuple([int(item) for item in shape_list])   "
   ]
  },
  {
   "cell_type": "code",
   "execution_count": 5,
   "metadata": {},
   "outputs": [],
   "source": [
    "# data = np.load(\"mnist_results__235237_08072019.npz\")\n",
    "\n",
    "# data = np.load(\"mnist_results_ed_mnist_network_test_100_full_recordings.npz\")\n",
    "#data = np.load(\"results/output_t_stim_80_testing_examples_50.npz\")\n",
    "data= np.load(\"results/output.npz\")\n",
    "#data= np.load(\"results/output_t_stim_800_testing_examples_20.npz\")\n",
    "#\"..//pynn_object_serialisation/pynn_object_serialisation/\"\n",
    "#\"experiments/mnist_testing/results/mnist_results_ed_mnist_network_test_1.npz\")\n",
    "# data = np.load(\"mnist_results_ed_mnist_network_test.npz\")"
   ]
  },
  {
   "cell_type": "code",
   "execution_count": 6,
   "metadata": {},
   "outputs": [],
   "source": [
    "input_layer_name = 'InputLayer'\n",
    "output_layer_name = get_ordered_layer_names_from_data(data)[-1]\n",
    "y_test = data['y_test']\n",
    "spikes_dict = data['spikes_dict'].ravel()[0]\n",
    "t_stim=data['t_stim']\n",
    "runtime=int(data['runtime'])\n",
    "N_layer=int(data['N_layer'])\n",
    "neo_object = data['neo_spikes_dict']\n",
    "\n",
    "data.close()\n",
    "\n",
    "labels = np.load('/mnt/snntoolbox/snn_toolbox_private/examples/models/05-mobilenet_dwarf_v1/label_names.npz')\n",
    "label_names = labels['arr_0']\n",
    "labels.close()"
   ]
  },
  {
   "cell_type": "code",
   "execution_count": 7,
   "metadata": {},
   "outputs": [],
   "source": [
    "def get_bounds(bin_number, t_stim =t_stim):\n",
    "    lower_end_bin_time = bin_number * t_stim\n",
    "    higher_end_bin_time = (bin_number+1) * t_stim\n",
    "    return lower_end_bin_time, higher_end_bin_time\n",
    "\n",
    "def get_bin_spikes(spikes, bin_number):\n",
    "    lower_end_bin_time, higher_end_bin_time = get_bounds(bin_number)\n",
    "    output = spikes[np.where((spikes[:,1] >= lower_end_bin_time) & (spikes[:,1] < higher_end_bin_time)),:]\n",
    "    output = np.asarray(output).astype(int)\n",
    "    return output\n",
    "\n",
    "def get_counts(spikes, bin_number, t_stim=t_stim, minlength = 3*32**2):\n",
    "    spikes = get_bin_spikes(spikes, bin_number)\n",
    "    just_spikes = spikes.reshape((-1,2))[:,0]\n",
    "    counts = np.bincount(just_spikes, minlength=minlength)\n",
    "    return counts\n",
    "\n",
    "def get_rates(spikes, bin_number, t_stim=t_stim):\n",
    "    return get_counts(spikes, bin_number)/t_stim\n",
    "\n",
    "def plot_rates(rates, shape=(32,32,3)):\n",
    "    rates /= rates.max()\n",
    "    plt.imshow(rates.reshape(shape))\n",
    "    \n",
    "def plot_bin(spikes, bin_number):\n",
    "    plot_rates(get_rates(spikes, bin_number))\n",
    "    \n",
    "\n",
    "def get_prediction(spikes, bin_number, t_stim=t_stim, output_size=10):\n",
    "    counts = get_counts(spikes, bin_number, t_stim, 10)\n",
    "    if counts.max() > 0:\n",
    "        return np.argmax(counts)\n",
    "    else:\n",
    "        return -1"
   ]
  },
  {
   "cell_type": "code",
   "execution_count": 8,
   "metadata": {},
   "outputs": [],
   "source": [
    "input_layer_name = get_ordered_layer_names(spikes_dict)[0]\n",
    "output_layer_name = get_ordered_layer_names(spikes_dict)[-1]\n",
    "input_layer_shape = (32, 32, 3)\n",
    "input_spikes = spikes_dict[input_layer_name]\n",
    "output_spikes = spikes_dict[output_layer_name]"
   ]
  },
  {
   "cell_type": "code",
   "execution_count": 9,
   "metadata": {},
   "outputs": [
    {
     "data": {
      "text/plain": [
       "(3072,)"
      ]
     },
     "execution_count": 9,
     "metadata": {},
     "output_type": "execute_result"
    }
   ],
   "source": [
    "get_counts(input_spikes, 5).shape"
   ]
  },
  {
   "cell_type": "code",
   "execution_count": 10,
   "metadata": {},
   "outputs": [],
   "source": [
    "number_of_examples = runtime // t_stim\n",
    "actual_test_labels = y_test[:number_of_examples]\n",
    "y_pred = np.ones(number_of_examples) * (-1)\n",
    "output_spikes = spikes_dict[output_layer_name]\n",
    "for bin_number in range(number_of_examples):\n",
    "    y_pred[bin_number]=get_prediction(output_spikes, bin_number)"
   ]
  },
  {
   "cell_type": "code",
   "execution_count": 11,
   "metadata": {},
   "outputs": [
    {
     "name": "stdout",
     "output_type": "stream",
     "text": [
      "Accuracy 0.0\n"
     ]
    }
   ],
   "source": [
    "print(\"Accuracy\", np.count_nonzero(y_pred==actual_test_labels)/float(number_of_examples))"
   ]
  },
  {
   "cell_type": "code",
   "execution_count": 12,
   "metadata": {},
   "outputs": [
    {
     "name": "stdout",
     "output_type": "stream",
     "text": [
      "Ppredicted: truck, Actual: cat\n",
      "Ppredicted: truck, Actual: ship\n",
      "Ppredicted: truck, Actual: ship\n",
      "Ppredicted: truck, Actual: airplane\n",
      "Ppredicted: truck, Actual: frog\n",
      "Ppredicted: horse, Actual: frog\n",
      "Ppredicted: horse, Actual: automobile\n",
      "Ppredicted: horse, Actual: frog\n",
      "Ppredicted: horse, Actual: cat\n",
      "Ppredicted: horse, Actual: automobile\n"
     ]
    }
   ],
   "source": [
    "for i in range(number_of_examples):\n",
    "    prediction = get_prediction(output_spikes, i)\n",
    "    predicted_label = label_names[prediction].decode('UTF-8')\n",
    "    actual_label = label_names[actual_test_labels[i]][0].decode('UTF-8')\n",
    "    print(\"Ppredicted: {}, Actual: {}\".format(predicted_label, actual_label))\n",
    "    #plot_bin(input_spikes, i)\n",
    "    #plt.show()"
   ]
  },
  {
   "cell_type": "code",
   "execution_count": 13,
   "metadata": {},
   "outputs": [
    {
     "data": {
      "text/plain": [
       "b'truck'"
      ]
     },
     "execution_count": 13,
     "metadata": {},
     "output_type": "execute_result"
    }
   ],
   "source": [
    "bin_number = 19\n",
    "\n",
    "prediction = get_prediction(output_spikes, bin_number)\n",
    "label_names[prediction]"
   ]
  },
  {
   "cell_type": "code",
   "execution_count": 14,
   "metadata": {},
   "outputs": [
    {
     "name": "stdout",
     "output_type": "stream",
     "text": [
      "[0 0 0 0 0 0 0 0 0 0]\n",
      "Count: Min 0 Max 0 Mean 0.0\n",
      "Hz   : Min 0. Hz Max 0. Hz Mean 0. Hz\n"
     ]
    }
   ],
   "source": [
    "nid_bincount = get_counts(output_spikes, 12, t_stim, 10)\n",
    "print(nid_bincount)\n",
    "print(\"Count: Min\", np.min(nid_bincount), \"Max\", np.max(nid_bincount), \"Mean\", np.mean(nid_bincount))\n",
    "nid_bincount = nid_bincount/(t_stim * ms)\n",
    "print(\"Hz   : Min\", np.min(nid_bincount), \"Max\", np.max(nid_bincount), \"Mean\", np.mean(nid_bincount))"
   ]
  },
  {
   "cell_type": "code",
   "execution_count": null,
   "metadata": {},
   "outputs": [],
   "source": []
  }
 ],
 "metadata": {
  "kernelspec": {
   "display_name": "Python 3",
   "language": "python",
   "name": "python3"
  },
  "language_info": {
   "codemirror_mode": {
    "name": "ipython",
    "version": 3
   },
   "file_extension": ".py",
   "mimetype": "text/x-python",
   "name": "python",
   "nbconvert_exporter": "python",
   "pygments_lexer": "ipython3",
   "version": "3.5.2"
  }
 },
 "nbformat": 4,
 "nbformat_minor": 4
}
