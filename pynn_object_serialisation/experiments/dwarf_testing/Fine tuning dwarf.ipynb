{
 "cells": [
  {
   "cell_type": "code",
   "execution_count": 112,
   "metadata": {},
   "outputs": [],
   "source": [
    "#Test input ANN\n",
    "import keras\n",
    "from keras.models import load_model\n",
    "import keras.backend as K\n",
    "from snntoolbox.parsing.utils import get_custom_activations_dict\n",
    "\n",
    "def relu6(x):\n",
    "    return K.relu(x, max_value=6)\n",
    "\n",
    "parsed_model_path = '/mnt/snntoolbox/snn_toolbox_private/examples/models/05-mobilenet_dwarf_v1/mobilenet_dwarf_v1_parsed.h5'\n",
    "unparsed_model_path = '/mnt/snntoolbox/snn_toolbox_private/examples/models/05-mobilenet_dwarf_v1/mobilenet_dwarf_v1.h5'\n",
    "custom_objects_path = '/mnt/snntoolbox/snn_toolbox_private/examples/models/05-mobilenet_dwarf_v1/custom_objects.json'\n",
    "parsed_model = load_model(parsed_model_path, get_custom_activations_dict(custom_objects_path))\n",
    "unparsed_model = load_model(unparsed_model_path, custom_objects={'relu6':relu6})"
   ]
  },
  {
   "cell_type": "code",
   "execution_count": 113,
   "metadata": {},
   "outputs": [
    {
     "name": "stdout",
     "output_type": "stream",
     "text": [
      "Model: \"sequential_1\"\n",
      "_________________________________________________________________\n",
      "Layer (type)                 Output Shape              Param #   \n",
      "=================================================================\n",
      "conv2d_1 (Conv2D)            (None, 32, 32, 32)        896       \n",
      "_________________________________________________________________\n",
      "batch_normalization_1 (Batch (None, 32, 32, 32)        128       \n",
      "_________________________________________________________________\n",
      "activation_1 (Activation)    (None, 32, 32, 32)        0         \n",
      "_________________________________________________________________\n",
      "depthwise_conv2d_1 (Depthwis (None, 32, 32, 32)        320       \n",
      "_________________________________________________________________\n",
      "batch_normalization_2 (Batch (None, 32, 32, 32)        128       \n",
      "_________________________________________________________________\n",
      "activation_2 (Activation)    (None, 32, 32, 32)        0         \n",
      "_________________________________________________________________\n",
      "conv2d_2 (Conv2D)            (None, 32, 32, 64)        2112      \n",
      "_________________________________________________________________\n",
      "batch_normalization_3 (Batch (None, 32, 32, 64)        256       \n",
      "_________________________________________________________________\n",
      "activation_3 (Activation)    (None, 32, 32, 64)        0         \n",
      "_________________________________________________________________\n",
      "depthwise_conv2d_2 (Depthwis (None, 16, 16, 64)        640       \n",
      "_________________________________________________________________\n",
      "batch_normalization_4 (Batch (None, 16, 16, 64)        256       \n",
      "_________________________________________________________________\n",
      "activation_4 (Activation)    (None, 16, 16, 64)        0         \n",
      "_________________________________________________________________\n",
      "conv2d_3 (Conv2D)            (None, 16, 16, 128)       8320      \n",
      "_________________________________________________________________\n",
      "batch_normalization_5 (Batch (None, 16, 16, 128)       512       \n",
      "_________________________________________________________________\n",
      "activation_5 (Activation)    (None, 16, 16, 128)       0         \n",
      "_________________________________________________________________\n",
      "depthwise_conv2d_3 (Depthwis (None, 8, 8, 128)         1280      \n",
      "_________________________________________________________________\n",
      "batch_normalization_6 (Batch (None, 8, 8, 128)         512       \n",
      "_________________________________________________________________\n",
      "activation_6 (Activation)    (None, 8, 8, 128)         0         \n",
      "_________________________________________________________________\n",
      "conv2d_4 (Conv2D)            (None, 8, 8, 256)         33024     \n",
      "_________________________________________________________________\n",
      "batch_normalization_7 (Batch (None, 8, 8, 256)         1024      \n",
      "_________________________________________________________________\n",
      "activation_7 (Activation)    (None, 8, 8, 256)         0         \n",
      "_________________________________________________________________\n",
      "global_average_pooling2d_1 ( (None, 256)               0         \n",
      "_________________________________________________________________\n",
      "reshape_1 (Reshape)          (None, 1, 1, 256)         0         \n",
      "_________________________________________________________________\n",
      "conv2d_5 (Conv2D)            (None, 1, 1, 10)          2570      \n",
      "_________________________________________________________________\n",
      "activation_8 (Activation)    (None, 1, 1, 10)          0         \n",
      "_________________________________________________________________\n",
      "flatten_1 (Flatten)          (None, 10)                0         \n",
      "=================================================================\n",
      "Total params: 51,978\n",
      "Trainable params: 50,570\n",
      "Non-trainable params: 1,408\n",
      "_________________________________________________________________\n"
     ]
    }
   ],
   "source": [
    "unparsed_model.summary()"
   ]
  },
  {
   "cell_type": "code",
   "execution_count": 114,
   "metadata": {},
   "outputs": [],
   "source": [
    "from keras.datasets import cifar10\n",
    "from keras.utils import to_categorical\n",
    "(x_train, y_train), (x_test, y_test) = cifar10.load_data()\n",
    "y_test = to_categorical(y_test)\n",
    "y_train = to_categorical(y_train)"
   ]
  },
  {
   "cell_type": "code",
   "execution_count": 115,
   "metadata": {
    "scrolled": true
   },
   "outputs": [
    {
     "data": {
      "text/plain": [
       "(10000, 10)"
      ]
     },
     "execution_count": 115,
     "metadata": {},
     "output_type": "execute_result"
    }
   ],
   "source": [
    "y_test.shape"
   ]
  },
  {
   "cell_type": "code",
   "execution_count": 116,
   "metadata": {},
   "outputs": [
    {
     "name": "stdout",
     "output_type": "stream",
     "text": [
      "10000/10000 [==============================] - 21s 2ms/step\n",
      "10000/10000 [==============================] - 32s 3ms/step\n"
     ]
    }
   ],
   "source": [
    "parsed_score = parsed_model.evaluate(x_test, y_test, batch_size = 1)\n",
    "unparsed_score = unparsed_model.evaluate(x_test, y_test, batch_size = 1)\n"
   ]
  },
  {
   "cell_type": "code",
   "execution_count": 117,
   "metadata": {
    "scrolled": true
   },
   "outputs": [
    {
     "name": "stdout",
     "output_type": "stream",
     "text": [
      "{'acc': 0.1177, 'top_k_categorical_accuracy': 0.9988, 'loss': nan}\n",
      "{'acc': 0.1178, 'loss': 9.42064359730046}\n"
     ]
    }
   ],
   "source": [
    "print(dict(zip(parsed_model.metrics_names, parsed_score)))\n",
    "print(dict(zip(unparsed_model.metrics_names, unparsed_score)))"
   ]
  },
  {
   "cell_type": "code",
   "execution_count": 118,
   "metadata": {},
   "outputs": [],
   "source": [
    "fine_tuned_model = unparsed_model"
   ]
  },
  {
   "cell_type": "code",
   "execution_count": 119,
   "metadata": {},
   "outputs": [
    {
     "data": {
      "text/plain": [
       "[<keras.layers.convolutional.Conv2D at 0x7fec80e54160>,\n",
       " <keras.layers.normalization.BatchNormalization at 0x7fec80e545c0>,\n",
       " <keras.layers.core.Activation at 0x7fec80e54438>,\n",
       " <keras.layers.convolutional.DepthwiseConv2D at 0x7fec80e65240>,\n",
       " <keras.layers.normalization.BatchNormalization at 0x7fec80dc1128>,\n",
       " <keras.layers.core.Activation at 0x7fec80e54400>,\n",
       " <keras.layers.convolutional.Conv2D at 0x7fec80d06ef0>,\n",
       " <keras.layers.normalization.BatchNormalization at 0x7fec80db5780>,\n",
       " <keras.layers.core.Activation at 0x7fec80ce1d30>,\n",
       " <keras.layers.convolutional.DepthwiseConv2D at 0x7fec80c83278>,\n",
       " <keras.layers.normalization.BatchNormalization at 0x7fec80c3fcf8>,\n",
       " <keras.layers.core.Activation at 0x7fec80bfb710>,\n",
       " <keras.layers.convolutional.Conv2D at 0x7fec80b75dd8>,\n",
       " <keras.layers.normalization.BatchNormalization at 0x7fec80a43860>,\n",
       " <keras.layers.core.Activation at 0x7fec80adf4e0>,\n",
       " <keras.layers.convolutional.DepthwiseConv2D at 0x7fec80a43978>,\n",
       " <keras.layers.normalization.BatchNormalization at 0x7fec8095ea58>,\n",
       " <keras.layers.core.Activation at 0x7fec809ff2b0>,\n",
       " <keras.layers.convolutional.Conv2D at 0x7fec808a0a90>,\n",
       " <keras.layers.normalization.BatchNormalization at 0x7fec80801550>]"
      ]
     },
     "execution_count": 119,
     "metadata": {},
     "output_type": "execute_result"
    }
   ],
   "source": [
    "fine_tuned_model.layers[:-6]"
   ]
  },
  {
   "cell_type": "code",
   "execution_count": 120,
   "metadata": {},
   "outputs": [],
   "source": [
    "#for layer in fine_tuned_model.layers[:-6]:\n",
    "    #layer.trainable = True"
   ]
  },
  {
   "cell_type": "code",
   "execution_count": 121,
   "metadata": {},
   "outputs": [
    {
     "name": "stdout",
     "output_type": "stream",
     "text": [
      "Epoch 1/5\n",
      "50000/50000 [==============================] - 928s 19ms/step - loss: 1.4051 - acc: 0.4908\n",
      "Epoch 2/5\n",
      "50000/50000 [==============================] - 933s 19ms/step - loss: 1.0825 - acc: 0.6111\n",
      "Epoch 3/5\n",
      "50000/50000 [==============================] - 941s 19ms/step - loss: 0.9568 - acc: 0.6590\n",
      "Epoch 4/5\n",
      "50000/50000 [==============================] - 945s 19ms/step - loss: 0.8695 - acc: 0.6942\n",
      "Epoch 5/5\n",
      "50000/50000 [==============================] - 971s 19ms/step - loss: 0.8069 - acc: 0.7159\n"
     ]
    },
    {
     "data": {
      "text/plain": [
       "<keras.callbacks.History at 0x7fec804cb048>"
      ]
     },
     "execution_count": 121,
     "metadata": {},
     "output_type": "execute_result"
    }
   ],
   "source": [
    "fine_tuned_model.compile(loss = 'categorical_crossentropy', optimizer='adam', metrics=['accuracy'])\n",
    "fine_tuned_model.fit(x_train, y_train, epochs = 5, batch_size= 1)"
   ]
  },
  {
   "cell_type": "code",
   "execution_count": 122,
   "metadata": {},
   "outputs": [
    {
     "name": "stdout",
     "output_type": "stream",
     "text": [
      "10000/10000 [==============================] - 35s 4ms/step\n",
      "{'acc': 0.4073, 'loss': 4.164037624470001}\n"
     ]
    }
   ],
   "source": [
    "fine_tuned_score = fine_tuned_model.evaluate(x_test, y_test, batch_size = 1)\n",
    "print(dict(zip(fine_tuned_model.metrics_names, fine_tuned_score)))\n"
   ]
  },
  {
   "cell_type": "code",
   "execution_count": 125,
   "metadata": {},
   "outputs": [],
   "source": [
    "fine_tuned_model.save('fine_tuned_model.h5')"
   ]
  }
 ],
 "metadata": {
  "kernelspec": {
   "display_name": "Python 3",
   "language": "python",
   "name": "python3"
  },
  "language_info": {
   "codemirror_mode": {
    "name": "ipython",
    "version": 3
   },
   "file_extension": ".py",
   "mimetype": "text/x-python",
   "name": "python",
   "nbconvert_exporter": "python",
   "pygments_lexer": "ipython3",
   "version": "3.5.2"
  }
 },
 "nbformat": 4,
 "nbformat_minor": 2
}
